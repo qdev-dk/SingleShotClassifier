{
 "cells": [
  {
   "cell_type": "markdown",
   "metadata": {},
   "source": [
    "# Hello, world!\n",
    "\n",
    "This notebook shows you how get a friendly greeting from single_shot_classifier."
   ]
  },
  {
   "cell_type": "code",
   "execution_count": 1,
   "metadata": {
    "execution": {
     "iopub.execute_input": "2022-05-25T15:49:05.646342Z",
     "iopub.status.busy": "2022-05-25T15:49:05.645955Z",
     "iopub.status.idle": "2022-05-25T15:49:05.887262Z",
     "shell.execute_reply": "2022-05-25T15:49:05.886126Z"
    }
   },
   "outputs": [],
   "source": [
    "from single_shot_classifier.hello_world import hello_world, greeter"
   ]
  },
  {
   "cell_type": "code",
   "execution_count": 2,
   "metadata": {
    "execution": {
     "iopub.execute_input": "2022-05-25T15:49:05.892167Z",
     "iopub.status.busy": "2022-05-25T15:49:05.891744Z",
     "iopub.status.idle": "2022-05-25T15:49:05.898984Z",
     "shell.execute_reply": "2022-05-25T15:49:05.898002Z"
    }
   },
   "outputs": [
    {
     "name": "stdout",
     "output_type": "stream",
     "text": [
      "Hello, you!\n",
      "and\n",
      "Hello, world! from single_shot_classifier\n"
     ]
    }
   ],
   "source": [
    "name = \"you\"\n",
    "print(greeter(name))\n",
    "print(\"and\")\n",
    "hello_world()"
   ]
  }
 ],
 "metadata": {
  "kernelspec": {
   "display_name": "Python 3",
   "language": "python",
   "name": "python3"
  },
  "language_info": {
   "codemirror_mode": {
    "name": "ipython",
    "version": 3
   },
   "file_extension": ".py",
   "mimetype": "text/x-python",
   "name": "python",
   "nbconvert_exporter": "python",
   "pygments_lexer": "ipython3",
   "version": "3.7.13"
  }
 },
 "nbformat": 4,
 "nbformat_minor": 4
}
